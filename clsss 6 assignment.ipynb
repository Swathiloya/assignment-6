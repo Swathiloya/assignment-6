{
 "cells": [
  {
   "cell_type": "code",
   "execution_count": null,
   "id": "dceb8589",
   "metadata": {},
   "outputs": [],
   "source": [
    "#6. Create a list(friend_names) with your friends names(atleaste 10 names)?\n",
    "#print all names with in loop \n",
    "#Expected Output: my friend name is \"ravi\"\n",
    "#\t\t     my friend name is \"shanker\"\n"
   ]
  },
  {
   "cell_type": "code",
   "execution_count": 1,
   "id": "8bbca6ad",
   "metadata": {},
   "outputs": [
    {
     "name": "stdout",
     "output_type": "stream",
     "text": [
      "*****my friend name is***** anitha\n",
      "*****my friend name is***** vanaja\n",
      "*****my friend name is***** prasanna\n",
      "*****my friend name is***** sivadevi\n",
      "*****my friend name is***** vanitha\n",
      "*****my friend name is***** anusha\n",
      "*****my friend name is***** poojitha\n",
      "*****my friend name is***** sruthi\n",
      "*****my friend name is***** mamatha\n",
      "*****my friend name is***** manasa\n"
     ]
    }
   ],
   "source": [
    "list=[\"anitha\",\"vanaja\",\"prasanna\",\"sivadevi\",\"vanitha\",\"anusha\",\"poojitha\",\"sruthi\",\"mamatha\",\"manasa\"]\n",
    "for p in list:\n",
    "    print(\"*****my friend name is*****\",p)"
   ]
  },
  {
   "cell_type": "code",
   "execution_count": null,
   "id": "38ec55cd",
   "metadata": {},
   "outputs": [],
   "source": [
    "#7. Create a list(family_members) with your family members names(atleaste 10 names)?\n",
    "#print all names with in loop "
   ]
  },
  {
   "cell_type": "code",
   "execution_count": 2,
   "id": "4b454e24",
   "metadata": {},
   "outputs": [
    {
     "name": "stdout",
     "output_type": "stream",
     "text": [
      "venkataraju\n",
      "dhanalakshmi\n",
      "gopalakrishna\n",
      "dasaradharamayya\n",
      "nagedhramma\n",
      "bhogiraju\n",
      "nagajyothi\n",
      "lakshamana\n",
      "umadevi\n",
      "poojitha\n"
     ]
    }
   ],
   "source": [
    "list=[\"venkataraju\",\"dhanalakshmi\",\"gopalakrishna\",\"dasaradharamayya\",\"nagedhramma\",\"bhogiraju\",\"nagajyothi\",\"lakshamana\",\"umadevi\",\"poojitha\"]\n",
    "for p in list:\n",
    "    print(p)"
   ]
  },
  {
   "cell_type": "code",
   "execution_count": null,
   "id": "61e67866",
   "metadata": {},
   "outputs": [],
   "source": [
    "#8. Create a list(food_names) with your favorite food names(atleaste 10 names only veg)?\n",
    "#print all names with in loop \n"
   ]
  },
  {
   "cell_type": "code",
   "execution_count": 3,
   "id": "fb65dca0",
   "metadata": {},
   "outputs": [
    {
     "name": "stdout",
     "output_type": "stream",
     "text": [
      "brinjal\n",
      "tomato\n",
      "angular gourds\n",
      "ladys finger\n",
      "gherkins\n",
      "potato\n",
      "bitter gourds\n",
      "bottle gourds\n",
      "sanke gourds\n",
      "cucumber\n"
     ]
    }
   ],
   "source": [
    "list=[\"brinjal\",\"tomato\",\"angular gourds\",\"ladys finger\",\"gherkins\",\"potato\",\"bitter gourds\",\"bottle gourds\",\"sanke gourds\",\"cucumber\"]     \n",
    "for p in list:\n",
    "    print(p)"
   ]
  },
  {
   "cell_type": "code",
   "execution_count": null,
   "id": "1ae46cea",
   "metadata": {},
   "outputs": [],
   "source": [
    "#9. Create a tuple(food_names) with your favorite food names(atleaste 10 names only nonveg)?\n",
    "#print all names with in loop \n"
   ]
  },
  {
   "cell_type": "code",
   "execution_count": 4,
   "id": "0accc292",
   "metadata": {},
   "outputs": [
    {
     "name": "stdout",
     "output_type": "stream",
     "text": [
      "fish\n",
      "egg\n",
      "chicken\n",
      "mutton\n",
      "fishbiryani\n",
      "prawn\n",
      "chicken biryani\n",
      "mutton biryani\n",
      "thandoori\n",
      "prawn biryani\n"
     ]
    }
   ],
   "source": [
    "tuple=(\"fish\",\"egg\",\"chicken\",\"mutton\",\"fishbiryani\",\"prawn\",\"chicken biryani\",\"mutton biryani\",\"thandoori\",\"prawn biryani\")\n",
    "for p in tuple:\n",
    "    print(p)"
   ]
  },
  {
   "cell_type": "code",
   "execution_count": null,
   "id": "e5df2c9c",
   "metadata": {},
   "outputs": [],
   "source": [
    "#10. Create a set(colour_names) with your colour names(atleaste 10 names)?\n",
    "#print all names with in loop "
   ]
  },
  {
   "cell_type": "code",
   "execution_count": 5,
   "id": "128303d2",
   "metadata": {},
   "outputs": [
    {
     "name": "stdout",
     "output_type": "stream",
     "text": [
      "green\n",
      "red\n",
      "blue\n",
      "grey\n",
      "white\n",
      "yellow\n",
      "pink\n",
      "orange\n",
      "black\n",
      "brown\n"
     ]
    }
   ],
   "source": [
    "set={\"white\",\"black\",\"red\",\"blue\",\"green\",\"yellow\",\"pink\",\"brown\",\"orange\",\"grey\"}\n",
    "for swathi in set:\n",
    "    print(swathi)"
   ]
  },
  {
   "cell_type": "code",
   "execution_count": null,
   "id": "ccb5b008",
   "metadata": {},
   "outputs": [],
   "source": [
    "#11. Create a list(month_names) with your month names(atleaste 10 names)?\n",
    "#print all names with in loop \n",
    "\n"
   ]
  },
  {
   "cell_type": "code",
   "execution_count": 6,
   "id": "2794643e",
   "metadata": {},
   "outputs": [
    {
     "name": "stdout",
     "output_type": "stream",
     "text": [
      "january\n",
      "february\n",
      "march\n",
      "april\n",
      "may\n",
      "june\n",
      "july\n",
      "august\n",
      "september\n",
      "october\n",
      "november\n",
      "december\n"
     ]
    }
   ],
   "source": [
    "list=[\"january\",\"february\",\"march\",\"april\",\"may\",\"june\",\"july\",\"august\",\"september\",\"october\",\"november\",\"december\"]\n",
    "for z in list:\n",
    "    print(z)"
   ]
  },
  {
   "cell_type": "code",
   "execution_count": null,
   "id": "e1b471a9",
   "metadata": {},
   "outputs": [],
   "source": [
    "#12. print 9th table (1 to 90)\n"
   ]
  },
  {
   "cell_type": "code",
   "execution_count": 7,
   "id": "feab273c",
   "metadata": {},
   "outputs": [
    {
     "name": "stdout",
     "output_type": "stream",
     "text": [
      "9\n",
      "18\n",
      "27\n",
      "36\n",
      "45\n",
      "54\n",
      "63\n",
      "72\n",
      "81\n",
      "90\n"
     ]
    }
   ],
   "source": [
    "range(9,91,9)\n",
    "for z in range(9,91,9):\n",
    "    print(z)"
   ]
  },
  {
   "cell_type": "code",
   "execution_count": null,
   "id": "2176d03a",
   "metadata": {},
   "outputs": [],
   "source": [
    "#13. print(12th table (1 to 120)\n"
   ]
  },
  {
   "cell_type": "code",
   "execution_count": 8,
   "id": "668231de",
   "metadata": {},
   "outputs": [
    {
     "name": "stdout",
     "output_type": "stream",
     "text": [
      "12\n",
      "24\n",
      "36\n",
      "48\n",
      "60\n",
      "72\n",
      "84\n",
      "96\n",
      "108\n",
      "120\n"
     ]
    }
   ],
   "source": [
    "range(12,123,12)\n",
    "for x in range(12,123,12):\n",
    "    print(x)\n",
    " "
   ]
  },
  {
   "cell_type": "code",
   "execution_count": null,
   "id": "fdbcbdcb",
   "metadata": {},
   "outputs": [],
   "source": []
  }
 ],
 "metadata": {
  "kernelspec": {
   "display_name": "Python 3 (ipykernel)",
   "language": "python",
   "name": "python3"
  },
  "language_info": {
   "codemirror_mode": {
    "name": "ipython",
    "version": 3
   },
   "file_extension": ".py",
   "mimetype": "text/x-python",
   "name": "python",
   "nbconvert_exporter": "python",
   "pygments_lexer": "ipython3",
   "version": "3.10.9"
  }
 },
 "nbformat": 4,
 "nbformat_minor": 5
}
